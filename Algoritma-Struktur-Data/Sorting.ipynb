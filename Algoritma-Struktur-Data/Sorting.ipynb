{
 "cells": [
  {
   "cell_type": "code",
   "execution_count": null,
   "id": "80cc0445",
   "metadata": {},
   "outputs": [],
   "source": [
    "import time\n",
    "import numpy as np\n",
    "from statistics import mean"
   ]
  },
  {
   "cell_type": "markdown",
   "id": "ffb19a67",
   "metadata": {},
   "source": [
    "# Selection Sort"
   ]
  },
  {
   "cell_type": "code",
   "execution_count": null,
   "id": "f25937f5",
   "metadata": {},
   "outputs": [],
   "source": [
    "def selectionSort(itemlist):\n",
    "    n = len(itemlist)\n",
    "    for i in range(n-1):\n",
    "        minValueIndex = i\n",
    "        for j in range(i+1, n):\n",
    "            if itemlist[j] < itemlist[minValueIndex]:\n",
    "                minValueIndex = j\n",
    "        if minValueIndex != i :\n",
    "            temp = itemlist[i]\n",
    "            itemlist[i] = itemlist[minValueIndex]\n",
    "            itemlist[minValueIndex] = temp\n",
    "    return itemlist"
   ]
  },
  {
   "cell_type": "code",
   "execution_count": null,
   "id": "4b0e4176",
   "metadata": {},
   "outputs": [],
   "source": [
    "Array_Pertama_Selection = np.random.randint(101, size = 1000)\n",
    "\n",
    "Time = []\n",
    "for i in range(100):\n",
    "    start = time.time()\n",
    "    selectionSort(Array_Pertama_Selection)\n",
    "    end = time.time()\n",
    "    waktu = end-start\n",
    "    Time.append(waktu)\n",
    "print(Time)\n",
    "AVG = mean(Time)\n",
    "AVG_100 = round(AVG, 5)\n",
    "print(\"100 times Iteration with 1000 Data, the average running time of the program is:\", AVG_100)"
   ]
  },
  {
   "cell_type": "code",
   "execution_count": null,
   "id": "3e33707d",
   "metadata": {},
   "outputs": [],
   "source": [
    "Array_Kedua_Selection = np.random.randint(101, size = 2000)\n",
    "\n",
    "Time = []\n",
    "for i in range(200):\n",
    "    start = time.time()\n",
    "    selectionSort(Array_Kedua_Selection)\n",
    "    end = time.time()\n",
    "    waktu = end-start\n",
    "    Time.append(waktu)\n",
    "print(Time)\n",
    "AVG = mean(Time)\n",
    "AVG_200 = round(AVG, 5)\n",
    "print(\"200 times Iteration with 2000 Data, the average running time of the program is:\", AVG_200)"
   ]
  },
  {
   "cell_type": "code",
   "execution_count": null,
   "id": "091a73d0",
   "metadata": {},
   "outputs": [],
   "source": [
    "Array_Ketiga_Selection = np.random.randint(101, size = 5000)\n",
    "\n",
    "Time = []\n",
    "for i in range(300):\n",
    "    start = time.time()\n",
    "    selectionSort(Array_Ketiga_Selection)\n",
    "    end = time.time()\n",
    "    waktu = end-start\n",
    "    Time.append(waktu)\n",
    "print(Time)\n",
    "AVG = mean(Time)\n",
    "AVG_300 = round(AVG, 5)\n",
    "print(\"300 times Iteration with 5000 Data, the average running time of the program is:\", AVG_300)"
   ]
  },
  {
   "cell_type": "code",
   "execution_count": null,
   "id": "f1a3cbc1",
   "metadata": {},
   "outputs": [],
   "source": [
    "Array_Keempat_Selection = np.random.randint(101, size = 10000)\n",
    "\n",
    "Time = []\n",
    "for i in range(500):\n",
    "    start = time.time()\n",
    "    selectionSort(Array_Keempat_Selection)\n",
    "    end = time.time()\n",
    "    waktu = end-start\n",
    "    Time.append(waktu)\n",
    "print(Time)\n",
    "AVG = mean(Time)\n",
    "AVG_500 = round(AVG, 5)\n",
    "print(\"500 times Iteration with 10000 Data, the average running time of the program is:\", AVG_500)"
   ]
  },
  {
   "cell_type": "code",
   "execution_count": null,
   "id": "983c349a",
   "metadata": {},
   "outputs": [],
   "source": [
    "SelectionSortTime = [AVG_100, AVG_200, AVG_300, AVG_500]\n",
    "Nama = [\"(100 , 1000)\",\"(200 , 2000)\",\"(300 , 5000)\",\"(500 , 10000)\"]"
   ]
  },
  {
   "cell_type": "code",
   "execution_count": null,
   "id": "bc1d34b7",
   "metadata": {},
   "outputs": [],
   "source": [
    "import matplotlib.pyplot as plt\n",
    "from matplotlib import style\n",
    "# plt.xticks(rotation ='vertical')\n",
    "plt.ylabel('TIMES')\n",
    "plt.xlabel('(ITERATION , DATA)')\n",
    "plt.title('Selection SORT')\n",
    "plt.plot(Nama,SelectionSortTime,marker = 'o',c = \"black\")"
   ]
  },
  {
   "cell_type": "markdown",
   "id": "0b7d9129",
   "metadata": {},
   "source": [
    "# Merge Sort"
   ]
  },
  {
   "cell_type": "code",
   "execution_count": null,
   "id": "63400f3d",
   "metadata": {},
   "outputs": [],
   "source": [
    "def mergeSort(nlist):\n",
    "  if len(nlist)>1:\n",
    "    mid = len(nlist)//2\n",
    "    lefthalf = nlist[:mid]\n",
    "    righthalf = nlist[mid:]\n",
    "    mergeSort(lefthalf)\n",
    "    mergeSort(righthalf)\n",
    "    i=j=k=0\n",
    "    while i<len(lefthalf) and j<len(righthalf):\n",
    "      if lefthalf[i]<righthalf[i]:\n",
    "        nlist[k] = lefthalf[i]\n",
    "        i=i+1\n",
    "      else:\n",
    "        nlist[k]=righthalf[j]\n",
    "        j=j+1\n",
    "      k=k+1\n",
    "    while i < len(lefthalf):\n",
    "      nlist[k]=lefthalf[i]\n",
    "      i = i+1\n",
    "      k = k+1\n",
    "    while j<len(righthalf):\n",
    "      nlist[k]=righthalf[j]\n",
    "      j = j+1\n",
    "      k=k+1"
   ]
  },
  {
   "cell_type": "code",
   "execution_count": null,
   "id": "91dfed7f",
   "metadata": {},
   "outputs": [],
   "source": [
    "Array_Pertama_MergeSort = np.random.randint(101, size = 1000)\n",
    "\n",
    "Time = []\n",
    "for i in range(100):\n",
    "    start = time.time()\n",
    "    mergeSort(Array_Pertama_MergeSort)\n",
    "    end = time.time()\n",
    "    waktu = end-start\n",
    "    Time.append(waktu)\n",
    "print(Time)\n",
    "AVG = mean(Time)\n",
    "AVG_100 = round(AVG, 5)\n",
    "print(\"100 times Iteration with 1000 Data, the average running time of the program is:\", AVG_100)"
   ]
  },
  {
   "cell_type": "code",
   "execution_count": null,
   "id": "16412ec6",
   "metadata": {},
   "outputs": [],
   "source": [
    "Array_Kedua_MergeSort = np.random.randint(101, size = 2000)\n",
    "\n",
    "Time = []\n",
    "for i in range(200):\n",
    "    start = time.time()\n",
    "    mergeSort(Array_Kedua_MergeSort)\n",
    "    end = time.time()\n",
    "    waktu = end-start\n",
    "    Time.append(waktu)\n",
    "print(Time)\n",
    "AVG = mean(Time)\n",
    "AVG_200 = round(AVG, 5)\n",
    "print(\"200 times Iteration with 2000 Data, the average running time of the program is:\", AVG_200)"
   ]
  },
  {
   "cell_type": "code",
   "execution_count": null,
   "id": "b45a911c",
   "metadata": {},
   "outputs": [],
   "source": [
    "Array_Ketiga_MergeSort = np.random.randint(101, size = 5000)\n",
    "\n",
    "Time = []\n",
    "for i in range(300):\n",
    "    start = time.time()\n",
    "    mergeSort(Array_Ketiga_MergeSort)\n",
    "    end = time.time()\n",
    "    waktu = end-start\n",
    "    Time.append(waktu)\n",
    "print(Time)\n",
    "AVG = mean(Time)\n",
    "AVG_300 = round(AVG, 5)\n",
    "print(\"300 times Iteration with 5000 Data, the average running time of the program is:\", AVG_300)"
   ]
  },
  {
   "cell_type": "code",
   "execution_count": null,
   "id": "884a864f",
   "metadata": {},
   "outputs": [],
   "source": [
    "Array_Keempat_MergeSort = np.random.randint(101, size = 10000)\n",
    "\n",
    "Time = []\n",
    "for i in range(500):\n",
    "    start = time.time()\n",
    "    mergeSort(Array_Keempat_MergeSort)\n",
    "    end = time.time()\n",
    "    waktu = end-start\n",
    "    Time.append(waktu)\n",
    "print(Time)\n",
    "AVG = mean(Time)\n",
    "AVG_500 = round(AVG, 5)\n",
    "print(\"500 times Iteration with 10000 Data, the average running time of the program is:\", AVG_500)"
   ]
  },
  {
   "cell_type": "code",
   "execution_count": null,
   "id": "76973821",
   "metadata": {},
   "outputs": [],
   "source": [
    "MergeSortTime = [AVG_100, AVG_200, AVG_300, AVG_500]\n",
    "Nama = [\"(100 , 1000)\",\"(200 , 2000)\",\"(300 , 5000)\",\"(500 , 10000)\"]"
   ]
  },
  {
   "cell_type": "code",
   "execution_count": null,
   "id": "c8b5df34",
   "metadata": {},
   "outputs": [],
   "source": [
    "import matplotlib.pyplot as plt\n",
    "%matplotlib inline\n",
    "\n",
    "plt.figure(figsize=(8,6))\n",
    "plt.bar(Nama,MergeSortTime, color='black')\n",
    "\n",
    "plt.title('MERGE SORT', size=16)\n",
    "plt.ylabel('TIMES', size=14)\n",
    "plt.xlabel(\"(ITERATION , DATA)\", size=14)\n",
    "plt.xticks(size=8)\n",
    "plt.yticks(size=8)\n",
    "\n",
    "plt.show()"
   ]
  },
  {
   "cell_type": "markdown",
   "id": "44777a3b",
   "metadata": {},
   "source": [
    "# Quick Sort"
   ]
  },
  {
   "cell_type": "code",
   "execution_count": null,
   "id": "cac79d2d",
   "metadata": {},
   "outputs": [],
   "source": [
    "def partition(arr, low, high):\n",
    "  i = (low-1)\n",
    "  pivot = arr[high]\n",
    "\n",
    "  for j in range(low, high):\n",
    "    if arr[j] <= pivot:\n",
    "      i += 1\n",
    "      arr[i], arr[j] = arr[j], arr[i]\n",
    "  arr[i+1], arr[high] = arr[high], arr[i+1]\n",
    "  return (i+1)\n",
    "\n",
    "def quickSort(arr,low,high):\n",
    "  if len(arr) ==1:\n",
    "    return arr\n",
    "  if low < high:\n",
    "    pi = partition(arr,low,high)\n",
    "    quickSort(arr,low,pi-1)\n",
    "    quickSort(arr,pi+1,high)"
   ]
  },
  {
   "cell_type": "code",
   "execution_count": null,
   "id": "fb9e80d6",
   "metadata": {},
   "outputs": [],
   "source": [
    "Array_Pertama_QuickSort = np.random.randint(101, size = 1000)\n",
    "\n",
    "Time = []\n",
    "for i in range(100):\n",
    "    start = time.time()\n",
    "    n = len(Array_Pertama_QuickSort)\n",
    "    quickSort(Array_Pertama_QuickSort,0,n-1)\n",
    "    end = time.time()\n",
    "    waktu = end-start\n",
    "    Time.append(waktu)\n",
    "print(Time)\n",
    "AVG = mean(Time)\n",
    "AVG_100 = round(AVG, 5)\n",
    "print(\"100 times Iteration with 1000 data, the average running time of the program is:\", AVG_100)"
   ]
  },
  {
   "cell_type": "code",
   "execution_count": null,
   "id": "e6ac33d3",
   "metadata": {},
   "outputs": [],
   "source": [
    "Array_Kedua_QuickSort = np.random.randint(101, size = 2000)\n",
    "\n",
    "Time = []\n",
    "for i in range(200):\n",
    "    start = time.time()\n",
    "    n = len(Array_Kedua_QuickSort)\n",
    "    quickSort(Array_Kedua_QuickSort,0,n-1)\n",
    "    end = time.time()\n",
    "    waktu = end-start\n",
    "    Time.append(waktu)\n",
    "print(Time)\n",
    "AVG = mean(Time)\n",
    "AVG_200 = round(AVG, 5)\n",
    "print(\"200 times Iteration with 2000 data, the average running time of the program is:\", AVG_200)"
   ]
  },
  {
   "cell_type": "code",
   "execution_count": null,
   "id": "a9e9858c",
   "metadata": {},
   "outputs": [],
   "source": [
    "Array_Ketiga_QuickSort = np.random.randint(101, size = 5000)\n",
    "\n",
    "Time = []\n",
    "for i in range(300):\n",
    "    start = time.time()\n",
    "    n = len(Array_Ketiga_QuickSort)\n",
    "    quickSort(Array_Ketiga_QuickSort,0,n-1)\n",
    "    end = time.time()\n",
    "    waktu = end-start\n",
    "    Time.append(waktu)\n",
    "print(Time)\n",
    "AVG = mean(Time)\n",
    "AVG_300 = round(AVG, 5)\n",
    "print(\"300 times Iteration with 5000 data, the average running time of the program is:\", AVG_300)"
   ]
  },
  {
   "cell_type": "code",
   "execution_count": null,
   "id": "4401accb",
   "metadata": {},
   "outputs": [],
   "source": [
    "Array_Keempat_QuickSort = np.random.randint(101, size = 5000)\n",
    "\n",
    "Time = []\n",
    "for i in range(500):\n",
    "    start = time.time()\n",
    "    n = len(Array_Keempat_QuickSort)\n",
    "    quickSort(Array_Keempat_QuickSort,0,n-1)\n",
    "    end = time.time()\n",
    "    waktu = end-start\n",
    "    Time.append(waktu)\n",
    "print(Time)\n",
    "AVG = mean(Time)\n",
    "AVG_500 = round(AVG, 5)\n",
    "print(\"500 times Iteration with 10000 data, the average running time of the program is:\", AVG_500)"
   ]
  },
  {
   "cell_type": "code",
   "execution_count": null,
   "id": "b173f461",
   "metadata": {},
   "outputs": [],
   "source": [
    "MergeSortTime = [AVG_100, AVG_200, AVG_300, AVG_500]\n",
    "Nama = [\"(100 , 1000)\",\"(200 , 2000)\",\"(300 , 5000)\",\"(500 , 10000)\"]"
   ]
  },
  {
   "cell_type": "code",
   "execution_count": null,
   "id": "ac8fc579",
   "metadata": {},
   "outputs": [],
   "source": [
    "import matplotlib.pyplot as plt\n",
    "from matplotlib import style\n",
    "# plt.xticks(rotation ='vertical')\n",
    "plt.ylabel('TIMES')\n",
    "plt.xlabel('(ITERATION , DATA)')\n",
    "plt.title('QUICK SORT')\n",
    "plt.plot(Nama,QuickSortTime,marker = 'o',c = \"black\")"
   ]
  },
  {
   "cell_type": "code",
   "execution_count": null,
   "id": "57d75689",
   "metadata": {},
   "outputs": [],
   "source": [
    "QuickSortTime = [AVG_100, AVG_200, AVG_300, AVG_500]\n",
    "Nama = [\"(100 , 1000)\",\"(200 , 2000)\",\"(300 , 5000)\",\"(500 , 10000)\"]"
   ]
  },
  {
   "cell_type": "code",
   "execution_count": null,
   "id": "cc928a1d",
   "metadata": {},
   "outputs": [],
   "source": [
    "import matplotlib.pyplot as plt\n",
    "%matplotlib inline\n",
    "\n",
    "plt.figure(figsize=(8,6))\n",
    "plt.bar(Nama,QuickSortTime, color='black')\n",
    "\n",
    "plt.title('QUICK SORT', size=16)\n",
    "plt.ylabel('TIMES', size=14)\n",
    "plt.xlabel(\"(ITERATION , DATA)\", size=14)\n",
    "plt.xticks(size=8)\n",
    "plt.yticks(size=8)\n",
    "\n",
    "plt.show()"
   ]
  },
  {
   "cell_type": "code",
   "execution_count": null,
   "id": "1aea2d53",
   "metadata": {},
   "outputs": [],
   "source": []
  },
  {
   "cell_type": "code",
   "execution_count": null,
   "id": "1f4ce7c4",
   "metadata": {},
   "outputs": [],
   "source": []
  },
  {
   "cell_type": "code",
   "execution_count": null,
   "id": "d39b3fd3",
   "metadata": {},
   "outputs": [],
   "source": []
  }
 ],
 "metadata": {
  "kernelspec": {
   "display_name": "Python 3 (ipykernel)",
   "language": "python",
   "name": "python3"
  },
  "language_info": {
   "codemirror_mode": {
    "name": "ipython",
    "version": 3
   },
   "file_extension": ".py",
   "mimetype": "text/x-python",
   "name": "python",
   "nbconvert_exporter": "python",
   "pygments_lexer": "ipython3",
   "version": "3.8.8"
  }
 },
 "nbformat": 4,
 "nbformat_minor": 5
}
